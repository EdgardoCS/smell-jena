{
 "cells": [
  {
   "cell_type": "code",
   "id": "c0a884c1ec4152b2",
   "metadata": {
    "ExecuteTime": {
     "end_time": "2025-06-18T13:33:06.150448Z",
     "start_time": "2025-06-18T13:33:06.145815Z"
    }
   },
   "source": [
    "import math\n",
    "import pandas as pd\n",
    "import seaborn as sns\n",
    "import matplotlib.pyplot as plt\n",
    "import matplotlib.image as mpimg\n",
    "from numpy.core.defchararray import capitalize\n"
   ],
   "outputs": [],
   "execution_count": 64
  },
  {
   "metadata": {
    "ExecuteTime": {
     "end_time": "2025-06-18T13:33:06.211003Z",
     "start_time": "2025-06-18T13:33:06.203443Z"
    }
   },
   "cell_type": "code",
   "source": [
    "def count_whole(data, rectangle_range):\n",
    "    '''\n",
    "    Takes an area and search for every data that fits within that area, data has x,y coordinates.\n",
    "    Calculates the number of points inside the area for front and back draws.\n",
    "    This function will take the whole body picture, to have the total amount of points for the front and\n",
    "    for the back\n",
    "    :param data: target data\n",
    "    :param rectangle_range: target rectangle range\n",
    "    :return: f = points on the front (whole picture) ; b = points on the back (whole picture)\n",
    "    '''\n",
    "    f = []\n",
    "    b = []\n",
    "\n",
    "    target_data = data.dropna()\n",
    "\n",
    "    x = rectangle_range['x']\n",
    "    y = rectangle_range['y']\n",
    "    w = rectangle_range['w']\n",
    "    h = rectangle_range['h']\n",
    "\n",
    "    for i in range(0, len(target_data)):\n",
    "        if x <= target_data.iloc[i, 3] < x + w and y <= target_data.iloc[i, 2] < y + h:\n",
    "            f.append([int(target_data.iloc[i, 3]), int(target_data.iloc[i, 2])])\n",
    "\n",
    "    for i in range(0, len(target_data)):\n",
    "        b.append([int(target_data.iloc[i, 3]), int(target_data.iloc[i, 2])])\n",
    "\n",
    "    f = len(f)\n",
    "    b = len(b)\n",
    "\n",
    "    b = abs(f - b)\n",
    "    return f, b"
   ],
   "id": "c32ae5ddd50aed3a",
   "outputs": [],
   "execution_count": 65
  },
  {
   "metadata": {
    "ExecuteTime": {
     "end_time": "2025-06-18T13:33:06.258777Z",
     "start_time": "2025-06-18T13:33:06.249589Z"
    }
   },
   "cell_type": "code",
   "source": [
    "def count_inside(data, rectangle_range):\n",
    "    '''\n",
    "    Takes an area and search for every data that fits within that area, data has x,y coordinates.\n",
    "    Calculates the number of points inside the area for front and back draws\n",
    "    :param data: target data\n",
    "    :param rectangle_range: target rectangle range\n",
    "    :return: f = points on the front ; b = points on the back\n",
    "    '''\n",
    "    f = []\n",
    "    b = []\n",
    "\n",
    "    target_data = data\n",
    "\n",
    "    x = rectangle_range.loc[rectangle_range['location'] == 'front', 'x'].to_numpy()\n",
    "    y = rectangle_range.loc[rectangle_range['location'] == 'front', 'y'].to_numpy()\n",
    "    w = rectangle_range.loc[rectangle_range['location'] == 'front', 'w'].to_numpy()\n",
    "    h = rectangle_range.loc[rectangle_range['location'] == 'front', 'h'].to_numpy()\n",
    "\n",
    "    for i in range(0, len(target_data)):\n",
    "        if x <= target_data.iloc[i, 3] < x + w and y <= target_data.iloc[i, 2] < y + h:\n",
    "            f.append([int(target_data.iloc[i, 3]), int(target_data.iloc[i, 2])])\n",
    "\n",
    "    x = rectangle_range.loc[rectangle_range['location'] == 'back', 'x'].to_numpy()\n",
    "    y = rectangle_range.loc[rectangle_range['location'] == 'back', 'y'].to_numpy()\n",
    "    w = rectangle_range.loc[rectangle_range['location'] == 'back', 'w'].to_numpy()\n",
    "    h = rectangle_range.loc[rectangle_range['location'] == 'back', 'h'].to_numpy()\n",
    "\n",
    "    for i in range(0, len(target_data)):\n",
    "        if x <= target_data.iloc[i, 3] < x + w and y <= target_data.iloc[i, 2] < y + h:\n",
    "            b.append([int(target_data.iloc[i, 3]), int(target_data.iloc[i, 2])])\n",
    "\n",
    "    return f, b"
   ],
   "id": "ebe9b8f1a7ce20",
   "outputs": [],
   "execution_count": 66
  },
  {
   "metadata": {
    "ExecuteTime": {
     "end_time": "2025-06-18T13:33:06.360048Z",
     "start_time": "2025-06-18T13:33:06.353820Z"
    }
   },
   "cell_type": "code",
   "source": [
    "\n",
    "def truncate(number, digits) -> float:\n",
    "    '''\n",
    "    Function by https://stackoverflow.com/users/541420/erwin-mayer\n",
    "    :param number: input number\n",
    "    :param digits: target decimals to be left\n",
    "    :return: float number with target decimals\n",
    "    '''\n",
    "    # Improve accuracy with floating point operations, to avoid truncate(16.4, 2) = 16.39 or truncate(-1.13, 2) = -1.12\n",
    "    nbDecimals = len(str(number).split('.')[1])\n",
    "    if nbDecimals <= digits:\n",
    "        return number\n",
    "    stepper = 10.0 ** digits\n",
    "    return math.trunc(stepper * number) / stepper"
   ],
   "id": "9f41cfbfaafdb8bd",
   "outputs": [],
   "execution_count": 67
  },
  {
   "metadata": {
    "ExecuteTime": {
     "end_time": "2025-06-18T13:33:06.433472Z",
     "start_time": "2025-06-18T13:33:06.419206Z"
    }
   },
   "cell_type": "code",
   "source": [
    "def sort_and_export(a, b, c):\n",
    "    data_sorted = pd.DataFrame()\n",
    "\n",
    "    titles = ['Females (Self)', 'Males (Self)', 'Females (Others)', 'Males (Others)']\n",
    "    for i, sex in enumerate(a):\n",
    "\n",
    "        print(\"Working on\", titles[i])\n",
    "\n",
    "        for segment in c:\n",
    "            print(\"Working on\", segment)\n",
    "            rectangle = b.set_index('segment').loc[segment, ['location', 'x', 'y', 'w', 'h']]\n",
    "\n",
    "            x1 = rectangle.loc[rectangle['location'] == \"front\", 'x'].to_numpy()\n",
    "            y1 = rectangle.loc[rectangle['location'] == \"front\", 'y'].to_numpy()\n",
    "            w1 = rectangle.loc[rectangle['location'] == \"front\", 'w'].to_numpy()\n",
    "            h1 = rectangle.loc[rectangle['location'] == \"front\", 'h'].to_numpy()\n",
    "\n",
    "            x2 = rectangle.loc[rectangle['location'] == \"back\", 'x'].to_numpy()\n",
    "            y2 = rectangle.loc[rectangle['location'] == \"back\", 'y'].to_numpy()\n",
    "            w2 = rectangle.loc[rectangle['location'] == \"back\", 'w'].to_numpy()\n",
    "            h2 = rectangle.loc[rectangle['location'] == \"back\", 'h'].to_numpy()\n",
    "\n",
    "            if segment == \"r_armpit\" or segment == \"l_armpit\":\n",
    "                segment = \"armpits\"\n",
    "            if segment == \"r_hand\" or segment == \"l_hand\":\n",
    "                segment = \"hands\"\n",
    "            if segment == \"r_knee\" or segment == \"l_knee\":\n",
    "                segment = \"legs\"\n",
    "            if segment == \"r_foot\" or segment == \"l_foot\":\n",
    "                segment = \"feet\"\n",
    "\n",
    "            for j in range(0, len(sex)):\n",
    "                if \"(Self)\" in titles[i]:\n",
    "                    if x1 <= sex.iloc[j, 3] < x1 + w1 and y1 <= sex.iloc[j, 2] < y1 + h1:\n",
    "                        sex.loc[(sex['self_x'] == sex.iloc[j, 3]) & (sex['self_y'] == sex.iloc[j, 2]), ['segment']] = [\n",
    "                            segment]\n",
    "                        sex.loc[(sex['self_x'] == sex.iloc[j, 3]) & (sex['self_y'] == sex.iloc[j, 2]), ['location']] = [\n",
    "                            \"front\"]\n",
    "                        sex.loc[(sex['self_x'] == sex.iloc[j, 3]) & (sex['self_y'] == sex.iloc[j, 2]), ['type']] = [\n",
    "                            \"self\"]\n",
    "\n",
    "                    if x2 <= sex.iloc[j, 3] < x2 + w2 and y2 <= sex.iloc[j, 2] < y2 + h2:\n",
    "                        sex.loc[(sex['self_x'] == sex.iloc[j, 3]) & (sex['self_y'] == sex.iloc[j, 2]), ['segment']] = [\n",
    "                            segment]\n",
    "                        sex.loc[(sex['self_x'] == sex.iloc[j, 3]) & (sex['self_y'] == sex.iloc[j, 2]), ['type']] = [\n",
    "                            \"self\"]\n",
    "                        sex.loc[(sex['self_x'] == sex.iloc[j, 3]) & (sex['self_y'] == sex.iloc[j, 2]), ['location']] = [\n",
    "                            \"back\"]\n",
    "\n",
    "                elif \"(Others)\" in titles[i]:\n",
    "                    if x1 <= sex.iloc[j, 3] < x1 + w1 and y1 <= sex.iloc[j, 2] < y1 + h1:\n",
    "                        sex.loc[\n",
    "                            (sex['other_x'] == sex.iloc[j, 3]) & (sex['other_y'] == sex.iloc[j, 2]), ['segment']] = [\n",
    "                            segment]\n",
    "                        sex.loc[(sex['other_x'] == sex.iloc[j, 3]) & (sex['other_y'] == sex.iloc[j, 2]), ['type']] = [\n",
    "                            \"other\"]\n",
    "                        sex.loc[\n",
    "                            (sex['other_x'] == sex.iloc[j, 3]) & (sex['other_y'] == sex.iloc[j, 2]), ['location']] = [\n",
    "                            \"front\"]\n",
    "\n",
    "                    if x2 <= sex.iloc[j, 3] < x2 + w2 and y2 <= sex.iloc[j, 2] < y2 + h2:\n",
    "                        sex.loc[\n",
    "                            (sex['other_x'] == sex.iloc[j, 3]) & (sex['other_y'] == sex.iloc[j, 2]), ['segment']] = [\n",
    "                            segment]\n",
    "                        sex.loc[(sex['other_x'] == sex.iloc[j, 3]) & (sex['other_y'] == sex.iloc[j, 2]), ['type']] = [\n",
    "                            \"other\"]\n",
    "                        sex.loc[\n",
    "                            (sex['other_x'] == sex.iloc[j, 3]) & (sex['other_y'] == sex.iloc[j, 2]), ['location']] = [\n",
    "                            \"back\"]\n",
    "\n",
    "        duplicate_counts = (\n",
    "            sex.groupby(['id', 'segment', 'location'])\n",
    "            .size()\n",
    "            .reset_index(name='points')\n",
    "        )\n",
    "\n",
    "        info_df = sex[['id', 'gender', 'segment', 'location', 'type']].drop_duplicates()\n",
    "\n",
    "        result_df = pd.merge(duplicate_counts, info_df, on=['id', 'segment', 'location'], how='left')\n",
    "\n",
    "        result_df = result_df[['id', 'points', 'gender', 'segment', 'location', 'type']]\n",
    "        data_sorted = pd.concat([data_sorted, result_df], ignore_index=True)\n",
    "\n",
    "    return data_sorted"
   ],
   "id": "f4cf4d2b363096c3",
   "outputs": [],
   "execution_count": 68
  },
  {
   "metadata": {
    "ExecuteTime": {
     "end_time": "2025-06-18T13:33:06.531157Z",
     "start_time": "2025-06-18T13:33:06.513173Z"
    }
   },
   "cell_type": "code",
   "source": [
    "def plot_sex(a, b, c, d):\n",
    "    \"\"\"\n",
    "    Take both self and others data and plot the results of how many points are within a Region of Interest (ROI).\n",
    "    The results are plotted in terms of percentages and are separated by gender (female/male) and type (self/others)\n",
    "    It also takes the segments DataFrame and add new columns, such as 'points' (number of points counted on each\n",
    "    segment), 'gender' and 'type' to further analysis.\n",
    "    :param a: 'self' data\n",
    "    :param b: 'others' data\n",
    "    :param c: name of segments\n",
    "    :param d: body silhouette to plot\n",
    "    :return: Nothing\n",
    "    \"\"\"\n",
    "\n",
    "    titles = ['Females (Self)', 'Males (Self)', 'Females (Others)', 'Males (Others)']\n",
    "    gender_map = {0: 'female', 1: 'male', 2: 'female', 3: 'male'}\n",
    "    type_map = {0: 'self', 1: 'self', 2: 'other', 3: 'other'}\n",
    "\n",
    "    # Copy to avoid changing original data\n",
    "    segments_df = b.copy()\n",
    "\n",
    "    # We'll prepare two separate figures: one for points, one for percentage\n",
    "    fig_points, axes_points = plt.subplots(2, 2, figsize=(12, 10))\n",
    "    fig_percentage, axes_percentage = plt.subplots(2, 2, figsize=(12, 10))\n",
    "    axes_points = axes_points.flatten()\n",
    "    axes_percentage = axes_percentage.flatten()\n",
    "\n",
    "    data_sorted = pd.DataFrame()\n",
    "    for i, data in enumerate(a):\n",
    "        print('Processing:', titles[i])\n",
    "\n",
    "        front_rect = segments_df.set_index('segment').loc['front_side', ['location', 'x', 'y', 'w', 'h']]\n",
    "        whole_front, whole_back = count_whole(data, front_rect)\n",
    "\n",
    "        for seg in c:\n",
    "            rect = segments_df.set_index('segment').loc[seg, ['location', 'x', 'y', 'w', 'h']]\n",
    "            front_points, back_points = count_inside(data, rect)\n",
    "\n",
    "            front_count, back_count = len(front_points), len(back_points)\n",
    "            front_pct = round(front_count * 100 / whole_front, 2) if whole_front else 0\n",
    "            back_pct = round(back_count * 100 / whole_back, 2) if whole_back else 0\n",
    "\n",
    "            for loc, count, pct in [('front', front_count, front_pct), ('back', back_count, back_pct)]:\n",
    "                mask = (segments_df['segment'] == seg) & (segments_df['location'] == loc)\n",
    "                segments_df.loc[mask, 'points'] = count\n",
    "                segments_df.loc[mask, 'percentage'] = pct\n",
    "\n",
    "            segments_df.loc[segments_df['segment'] == seg, 'gender'] = gender_map[i]\n",
    "            segments_df.loc[segments_df['segment'] == seg, 'type'] = type_map[i]\n",
    "\n",
    "        # Sum paired segments for both metrics\n",
    "        segments_df = _sum_paired_segments(segments_df, ['armpit', 'hand', 'knee', 'foot'], target='points')\n",
    "        segments_df = _sum_paired_segments(segments_df, ['armpit', 'hand', 'knee', 'foot'], target='percentage')\n",
    "\n",
    "        # Data for points plot\n",
    "        plot_points = segments_df[segments_df['points'].notna()].copy()\n",
    "        plot_points['points'] = plot_points['points'].astype(int)\n",
    "        plot_points['colors'] = '#00DBFF'  # default blue\n",
    "        max_front_points = plot_points.iloc[:len(segments)]['points'].max()\n",
    "        max_back_points = plot_points.iloc[len(segments):]['points'].max()\n",
    "        min_nonzero_points = plot_points.loc[plot_points['points'] != 0, 'points'].min()\n",
    "        plot_points.loc[plot_points['points'] == max_front_points, 'colors'] = '#FF2400'\n",
    "        plot_points.loc[plot_points['points'] == max_back_points, 'colors'] = '#FF2400'\n",
    "        plot_points.loc[plot_points['points'] == min_nonzero_points, 'colors'] = '#FFD700'\n",
    "\n",
    "        # Data for percentage plot\n",
    "        plot_percentage = segments_df[segments_df['percentage'].notna()].copy()\n",
    "        plot_percentage['colors'] = '#00DBFF'  # default blue\n",
    "        max_front_pct = plot_percentage.iloc[:len(segments)]['percentage'].max()\n",
    "        max_back_pct = plot_percentage.iloc[len(segments):]['percentage'].max()\n",
    "        min_nonzero_pct = plot_percentage.loc[plot_percentage['percentage'] != 0, 'percentage'].min()\n",
    "        plot_percentage.loc[plot_percentage['percentage'] == max_front_pct, 'colors'] = '#FF2400'\n",
    "        plot_percentage.loc[plot_percentage['percentage'] == max_back_pct, 'colors'] = '#FF2400'\n",
    "        plot_percentage.loc[plot_percentage['percentage'] == min_nonzero_pct, 'colors'] = '#FFD700'\n",
    "\n",
    "        # Plot points\n",
    "        ax_p = axes_points[i]\n",
    "        sns.scatterplot(data=plot_points, x='xc', y='yc', size='points',\n",
    "                        sizes=(250, 1000), legend=False, ax=ax_p,\n",
    "                        hue='colors', alpha=0.5)\n",
    "\n",
    "        for idx, row in plot_points.iterrows():\n",
    "            ax_p.text(row['xc'], row['yc'], str(row['points']), ha='center')\n",
    "\n",
    "        ax_p.imshow(d)\n",
    "        ax_p.invert_yaxis()\n",
    "        ax_p.invert_xaxis()\n",
    "        ax_p.set_xlim(ax_p.get_xlim()[::-1])\n",
    "        ax_p.set_ylim(ax_p.get_ylim()[::-1])\n",
    "        ax_p.axis('off')\n",
    "        ax_p.set_title(f\"{titles[i]} - Points\")\n",
    "\n",
    "        # Plot percentage\n",
    "        ax_pct = axes_percentage[i]\n",
    "        sns.scatterplot(data=plot_percentage, x='xc', y='yc', size='percentage',\n",
    "                        sizes=(250, 1000), legend=False, ax=ax_pct,\n",
    "                        hue='colors', alpha=0.5)\n",
    "\n",
    "        for idx, row in plot_percentage.iterrows():\n",
    "            ax_pct.text(row['xc'], row['yc'], f\"{row['percentage']:.2f}\", ha='center')\n",
    "\n",
    "        ax_pct.imshow(d)\n",
    "        ax_pct.invert_yaxis()\n",
    "        ax_pct.invert_xaxis()\n",
    "        ax_pct.set_xlim(ax_pct.get_xlim()[::-1])\n",
    "        ax_pct.set_ylim(ax_pct.get_ylim()[::-1])\n",
    "        ax_pct.axis('off')\n",
    "        ax_pct.set_title(f\"{titles[i]} - Percentage\")\n",
    "        data_sorted = pd.concat([data_sorted, segments_df], ignore_index=True)\n",
    "\n",
    "    fig_points.savefig('output/gender_by_points.png', dpi=300)\n",
    "    fig_percentage.savefig('output/gender_by_percentage.png', dpi=300)\n",
    "    return data_sorted\n",
    "\n",
    "def _sum_paired_segments(df, segment_types, target='points'):\n",
    "    \"\"\"\n",
    "    Sum right and left paired segments into right segment and set left segment values to 0 for given target column.\n",
    "    \"\"\"\n",
    "    for seg_type in segment_types:\n",
    "        for loc in ['front', 'back']:\n",
    "            right_seg = f'r_{seg_type}'\n",
    "            left_seg = f'l_{seg_type}'\n",
    "\n",
    "            mask_right = (df['segment'] == right_seg) & (df['location'] == loc)\n",
    "            mask_left = (df['segment'] == left_seg) & (df['location'] == loc)\n",
    "\n",
    "            total = df.loc[mask_right | mask_left, target].sum()\n",
    "            df.loc[mask_right, target] = round(total, 2)\n",
    "            df.loc[mask_left, target] = 0\n",
    "    return df\n"
   ],
   "id": "4021c89eee861f92",
   "outputs": [],
   "execution_count": 69
  },
  {
   "metadata": {
    "ExecuteTime": {
     "end_time": "2025-06-18T13:33:09.615381Z",
     "start_time": "2025-06-18T13:33:06.555060Z"
    }
   },
   "cell_type": "code",
   "source": [
    "# Load data from questionnaire\n",
    "questionnaire = pd.read_excel('source/data/smell_behavior_sociodemographics.xlsx')\n",
    "\n",
    "# Load self and other body odor dataframes\n",
    "self = pd.read_excel('source/data/body_silhouettes_self.xlsx')\n",
    "other = pd.read_excel('source/data/body_silhouettes_other.xlsx')"
   ],
   "id": "ab10b0d08b3863a8",
   "outputs": [],
   "execution_count": 70
  },
  {
   "metadata": {
    "ExecuteTime": {
     "end_time": "2025-06-18T13:33:09.740974Z",
     "start_time": "2025-06-18T13:33:09.720053Z"
    }
   },
   "cell_type": "code",
   "source": [
    "# Extract valid entries (id) from cleaned questionnaire dataframe and filter for valid entries\n",
    "included = questionnaire['id'].unique()\n",
    "self = self[self['id'].isin(included)]\n",
    "other = other[other['id'].isin(included)]\n",
    "\n",
    "# Let's create DataFrames for gender-oriented analysis\n",
    "self_sex = self\n",
    "self_sex = self_sex.merge(questionnaire[['id', 'gender']], on='id', how='left')\n",
    "\n",
    "other_sex = other\n",
    "other_sex = other_sex.merge(questionnaire[['id', 'gender']], on='id', how='left')"
   ],
   "id": "3257b5cea3bb5b4",
   "outputs": [],
   "execution_count": 71
  },
  {
   "metadata": {
    "ExecuteTime": {
     "end_time": "2025-06-18T13:33:09.787Z",
     "start_time": "2025-06-18T13:33:09.743522Z"
    }
   },
   "cell_type": "code",
   "source": [
    "# Load body segments and image\n",
    "segments = pd.read_excel('source/data/body_segments.xlsx')\n",
    "segments_names = ['hair', 'mouth', 'neck', 'chest', 'r_armpit', 'r_hand', 'l_armpit',\n",
    "                  'l_hand', 'pelvis', 'r_knee', 'r_foot', 'l_knee', 'l_foot']\n",
    "\n",
    "map_img = mpimg.imread('source/img/humanbody_clear.png')\n",
    "\n",
    "colors = ['#FF6B6B', '#FFA94D', '#FFD43B', '#69DB7C', '#38D9A9', '#4DABF7', '#5C7CFA',\n",
    "          '#9775FA', '#DA77F2', '#F783AC', '#ADB5BD', '#343A40', '#FFC9E3', '#B2F2BB']"
   ],
   "id": "1ddbdd10a042d033",
   "outputs": [],
   "execution_count": 72
  },
  {
   "metadata": {},
   "cell_type": "code",
   "source": [
    "df_self1 = self_sex[self_sex['gender'] != 'male']\n",
    "df_self2 = self_sex[self_sex['gender'] != 'female']\n",
    "df_other1 = other_sex[other_sex['gender'] != 'male']\n",
    "df_other2 = other_sex[other_sex['gender'] != 'female']\n",
    "\n",
    "dfs = [df_self1, df_self2, df_other1, df_other2]\n",
    "\n",
    "a =  plot_sex(dfs, segments, segments_names, map_img)\n",
    "# data_sorted = sort_and_export(dfs, segments, segments_names)"
   ],
   "id": "e22e91652cf4c788",
   "outputs": [],
   "execution_count": null
  },
  {
   "metadata": {
    "ExecuteTime": {
     "end_time": "2025-06-18T13:40:20.139067Z",
     "start_time": "2025-06-18T13:40:20.120316Z"
    }
   },
   "cell_type": "code",
   "source": [
    "a = a.dropna().reset_index(drop=True)\n",
    "a = a.loc[(a[\"points\"] != 0.0)]"
   ],
   "id": "91d2b62d6793cd9a",
   "outputs": [],
   "execution_count": 79
  },
  {
   "metadata": {
    "ExecuteTime": {
     "end_time": "2025-06-18T13:34:05.039411Z",
     "start_time": "2025-06-18T13:34:05.033577Z"
    }
   },
   "cell_type": "code",
   "source": [
    "# data_sorted.rename(columns={\"points\": \"rating\"}, inplace=True)\n",
    "#\n",
    "# data_sorted.columns = [col.capitalize() for col in data_sorted.columns]\n",
    "#\n",
    "# for col in data_sorted.columns:\n",
    "#     if col != 'ID' and data_sorted[col].dtype == 'object':\n",
    "#         data_sorted[col] = data_sorted[col].str.capitalize()\n",
    "#\n",
    "# data_sorted.to_excel(\"output/data_sorted.xlsx\")\n"
   ],
   "id": "643405895477ddd7",
   "outputs": [],
   "execution_count": 74
  },
  {
   "metadata": {
    "ExecuteTime": {
     "end_time": "2025-06-18T13:34:05.088461Z",
     "start_time": "2025-06-18T13:34:05.083864Z"
    }
   },
   "cell_type": "code",
   "source": "",
   "id": "79e6063d4cb321b0",
   "outputs": [],
   "execution_count": null
  },
  {
   "metadata": {
    "collapsed": true,
    "ExecuteTime": {
     "end_time": "2025-06-18T13:34:05.180285Z",
     "start_time": "2025-06-18T13:34:05.176057Z"
    }
   },
   "cell_type": "code",
   "source": "",
   "id": "initial_id",
   "outputs": [],
   "execution_count": null
  }
 ],
 "metadata": {
  "kernelspec": {
   "display_name": "Python 3",
   "language": "python",
   "name": "python3"
  },
  "language_info": {
   "codemirror_mode": {
    "name": "ipython",
    "version": 2
   },
   "file_extension": ".py",
   "mimetype": "text/x-python",
   "name": "python",
   "nbconvert_exporter": "python",
   "pygments_lexer": "ipython2",
   "version": "2.7.6"
  }
 },
 "nbformat": 4,
 "nbformat_minor": 5
}
