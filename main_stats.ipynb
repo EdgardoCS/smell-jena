{
 "cells": [
  {
   "metadata": {
    "ExecuteTime": {
     "end_time": "2025-06-13T14:23:12.808514Z",
     "start_time": "2025-06-13T14:23:12.576661Z"
    }
   },
   "cell_type": "code",
   "source": [
    "\"\"\"\n",
    "author: EdgardoCS @FSU Jena\n",
    "date: 16.04.2025\n",
    "\"\"\"\n",
    "\n",
    "import pandas as pd\n",
    "from statsmodels.stats.anova import anova_lm\n",
    "from statsmodels.formula.api import ols, mixedlm\n",
    "from statsmodels.stats.multicomp import pairwise_tukeyhsd\n",
    "\n",
    "pd.options.mode.chained_assignment = None"
   ],
   "id": "86893424e05b45be",
   "outputs": [],
   "execution_count": 2
  },
  {
   "metadata": {
    "ExecuteTime": {
     "end_time": "2025-06-13T14:23:17.055715Z",
     "start_time": "2025-06-13T14:23:12.818259Z"
    }
   },
   "cell_type": "code",
   "source": [
    "input_data = \"output/data_sorted.xlsx\"\n",
    "columns = ['id', 'points', 'gender', 'segment', 'location', 'type']\n",
    "\n",
    "data = pd.read_excel(input_data, usecols=columns)\n",
    "\n",
    "# Conditions:\n",
    "# front + self + female\n",
    "# front + self + male\n",
    "# front + other + female\n",
    "# front + other + male\n",
    "#\n",
    "# back + self + female\n",
    "# back + self + male\n",
    "# back + other + female\n",
    "# back + other + male"
   ],
   "id": "fc4551c3bd8bfc2d",
   "outputs": [],
   "execution_count": 3
  },
  {
   "metadata": {
    "ExecuteTime": {
     "end_time": "2025-06-13T14:23:17.300577Z",
     "start_time": "2025-06-13T14:23:17.086712Z"
    }
   },
   "cell_type": "code",
   "source": [
    "# 1. Is there any difference between female and male when smelling others?\n",
    "target = (data[\n",
    "              (data['type'] == 'other') &\n",
    "              (data['gender'].isin(['female', 'male']))]\n",
    "          .copy())\n",
    "three_model = ols(\"\"\"points ~ C(segment) + C(gender) + C(location) +\n",
    "               C(segment):C(gender) + C(segment):C(location) + C(gender):C(location) +\n",
    "               C(segment):C(gender):C(location)\"\"\", data=target).fit()\n",
    "res1 = anova_lm(three_model, typ=2)\n",
    "\n",
    "# C(segment):C(gender) -> p= 0,35\n",
    "# C(segment):C(location) -> p= 7,38\n",
    "# C(gender):C(location) -> p= 0,22\n",
    "# C(segment):C(gender):C(location) -> p= 0,49\n",
    "\n",
    "# Answer, apparently *None* given the three model calculation"
   ],
   "id": "dc199cb5744a94f6",
   "outputs": [],
   "execution_count": 4
  },
  {
   "metadata": {
    "ExecuteTime": {
     "end_time": "2025-06-13T14:23:17.472528Z",
     "start_time": "2025-06-13T14:23:17.312839Z"
    }
   },
   "cell_type": "code",
   "source": [
    "# 2. Is there any difference between female and male when smelling themselves?\n",
    "target = (data[\n",
    "              (data['type'] == 'self') &\n",
    "              (data['gender'].isin(['female', 'male']))]\n",
    "          .copy())\n",
    "three_model = ols(\"\"\"points ~ C(segment) + C(gender) + C(location) +\n",
    "               C(segment):C(gender) + C(segment):C(location) + C(gender):C(location) +\n",
    "               C(segment):C(gender):C(location)\"\"\", data=target).fit()\n",
    "res2 = anova_lm(three_model, typ=2)\n",
    "\n",
    "# C(gender) -> p= 0,009\n",
    "# C(segment):C(gender) -> p= 0,97\n",
    "# C(segment):C(location) -> p= 0,02\n",
    "# C(gender):C(location) -> p= 0,66\n",
    "# C(segment):C(gender):C(location) -> p= 0,81\n",
    "\n",
    "# Answer, there is a main effect of Gender, and there is significant difference\n",
    "# between segment and location when participants smell themselves"
   ],
   "id": "24ef3982db99a59c",
   "outputs": [],
   "execution_count": 5
  },
  {
   "metadata": {
    "ExecuteTime": {
     "end_time": "2025-06-13T14:23:41.327033Z",
     "start_time": "2025-06-13T14:23:37.218080Z"
    }
   },
   "cell_type": "code",
   "source": [
    "# Take both genders, front and back when smelling themselves\n",
    "target = data[\n",
    "    (data['location'].isin(['front', 'back'])) &\n",
    "    (data['type'] == 'self') &\n",
    "    (data['gender'].isin(['female', 'male']))\n",
    "    ].copy()\n",
    "tukey = pairwise_tukeyhsd(endog=target['points'],\n",
    "                          # groups=target['location'] + target['segment'],\n",
    "                          groups=target['gender'] + target['segment'],\n",
    "                          alpha=0.05)\n",
    "\n",
    "# group     meandiff\tp-adj\tlower\tupper\treject\n",
    "# (front vs back)\n",
    "# armpit\t-0.0481\t    0.9999\t-0.2054\t0.1093\tFalse\n",
    "# chest\t    -0.2054\t    0.7353\t-0.5271\t0.1163\tFalse\n",
    "# feet\t    0.0671\t    0.9986\t-0.1164\t0.2506\tFalse\n",
    "# hair\t    -0.0627\t    1.0\t    -0.3866\t0.2612\tFalse\n",
    "# hand\t    -0.0428\t    1.0\t    -0.281\t0.1954\tFalse\n",
    "# knee\t    -0.0394\t    1.0\t    -0.597\t0.5182\tFalse\n",
    "# mouth\t    -0.3381\t    0.1214\t-0.7076\t0.0314\tFalse\n",
    "# neck\t    0.0695\t    1.0\t    -0.224\t0.3629\tFalse\n",
    "# pelvis\t0.0039\t    1.0\t    -0.1752\t0.1831\tFalse\n",
    "\n",
    "# group     meandiff\tp-adj\tlower\tupper\treject\n",
    "# (female vs male)\n",
    "# armpit\t-0.084\t    0.9009\t-0.236\t0.0679\tFalse\n",
    "# chest\t    -0.0897\t    0.9999\t-0.4026\t0.2231\tFalse\n",
    "# feet\t    -0.075\t    0.9957\t-0.2619\t0.1119\tFalse\n",
    "# hair\t    -0.0351\t    1.0\t    -0.3826\t0.3125\tFalse\n",
    "# hand\t    -0.0119\t    1.0\t    -0.2541\t0.2302\tFalse\n",
    "# knee\t    -0.0618\t    1.0\t    -0.6508\t0.5272\tFalse\n",
    "# mouth\t    -0.0487\t    1.0\t    -0.3572\t0.2598\tFalse\n",
    "# neck\t    -0.0892\t    0.9999\t-0.3832\t0.2048\tFalse\n",
    "# pelvis\t-0.0146\t    1.0\t    -0.1944\t0.1652\tFalse\n"
   ],
   "id": "f4ed38cdc603d41d",
   "outputs": [
    {
     "name": "stderr",
     "output_type": "stream",
     "text": [
      "C:\\Users\\silva\\Documents\\PythonProject\\smell-jena\\.venv\\Lib\\site-packages\\scipy\\integrate\\_quadpack_py.py:1260: IntegrationWarning: The integral is probably divergent, or slowly convergent.\n",
      "  quad_r = quad(f, low, high, args=args, full_output=self.full_output,\n"
     ]
    }
   ],
   "execution_count": 7
  },
  {
   "metadata": {
    "ExecuteTime": {
     "end_time": "2025-06-13T14:23:42.981604Z",
     "start_time": "2025-06-13T14:23:42.825601Z"
    }
   },
   "cell_type": "code",
   "source": [
    "# 3. is there any difference when males smell themselves vs when they smell others?\n",
    "target = (data[\n",
    "              (data['type'].isin(['self', 'other'])) &\n",
    "              (data['gender'] == 'male')]\n",
    "          .copy())\n",
    "three_model = ols(\"\"\"points ~ C(segment) + C(type) + C(location) +\n",
    "               C(segment):C(type) + C(segment):C(location) + C(type):C(location) +\n",
    "               C(segment):C(type):C(location)\"\"\", data=target).fit()\n",
    "res3 = anova_lm(three_model, typ=2)\n",
    "\n",
    "# C(type) -> p= 0,031\n",
    "# C(segment):C(type) -> p= 0,53\n",
    "# C(segment):C(location) -> p= 0,001\n",
    "# C(type):C(location) -> p= 0,88\n",
    "# C(segment):C(type):C(location) -> p= 0,98\n",
    "\n",
    "# Answer, there is a main effect of type, and there is significant difference\n",
    "# between segment and location when participants smell themselves vs when they smell others"
   ],
   "id": "9801d66952b76073",
   "outputs": [],
   "execution_count": 8
  },
  {
   "metadata": {
    "ExecuteTime": {
     "end_time": "2025-06-13T14:27:09.369734Z",
     "start_time": "2025-06-13T14:27:05.874292Z"
    }
   },
   "cell_type": "code",
   "source": [
    "# Lets check the above\n",
    "target = data[\n",
    "    (data['location'].isin(['front', 'back'])) &\n",
    "    (data['gender'] == 'male') &\n",
    "    (data['type'].isin(['self', 'other']))\n",
    "    ].copy()\n",
    "tukey = pairwise_tukeyhsd(endog=target['points'],\n",
    "                          # groups=target['location'] + target['segment'],\n",
    "                          groups=target['type'] + target['segment'],\n",
    "                          alpha=0.05)\n",
    "\n",
    "# group     meandiff\tp-adj\tlower\tupper\treject\n",
    "# (front vs back)\n",
    "# armpit\t-0.1062\t    0.8087\t-0.2815\t0.0691\tFalse\n",
    "# chest\t    -0.3709\t    0.0032\t-0.6774\t-0.0643\tTrue\n",
    "# feet\t    0.0838\t    0.9961\t-0.1266\t0.2942\tFalse\n",
    "# hair\t    -0.1236\t    0.999\t-0.4705\t0.2233\tFalse\n",
    "# hand\t    -0.0699\t    1.0\t    -0.3747\t0.2348\tFalse\n",
    "# knee\t    -0.0048\t    1.0\t    -0.5552\t0.5456\tFalse\n",
    "# mouth\t    -0.1502\t    0.9962\t-0.5281\t0.2277\tFalse\n",
    "# neck\t    0.11\t    0.9898\t-0.1436\t0.3636\tFalse\n",
    "# pelvis\t-0.0228\t    1.0\t    -0.2266\t0.1811\tFalse\n",
    "\n",
    "# group     meandiff\tp-adj\tlower\tupper\treject\n",
    "# (self vs other)\n",
    "# armpit\t-0.0506\t    0.9999\t-0.217\t0.1158\tFalse\n",
    "# chest\t    -0.0745\t    1.0\t    -0.39\t0.2411\tFalse\n",
    "# feet\t    -0.0883\t    0.9916\t-0.2955\t0.1188\tFalse\n",
    "# hair\t    0.0869\t    1.0\t    -0.2664\t0.4402\tFalse\n",
    "# hand\t    0.0305\t    1.0\t    -0.2601\t0.321\tFalse\n",
    "# knee\t    0.1451\t    1.0\t    -0.4341\t0.7243\tFalse\n",
    "# mouth\t    -0.127\t    0.997\t-0.4533\t0.1994\tFalse\n",
    "# neck\t    -0.0494\t    1.0\t    -0.3232\t0.2244\tFalse\n",
    "# pelvis\t-0.1268\t    0.7585\t-0.3285\t0.0749\tFalse"
   ],
   "id": "217330d12ef0785f",
   "outputs": [
    {
     "name": "stderr",
     "output_type": "stream",
     "text": [
      "C:\\Users\\silva\\Documents\\PythonProject\\smell-jena\\.venv\\Lib\\site-packages\\scipy\\integrate\\_quadpack_py.py:1260: IntegrationWarning: The integral is probably divergent, or slowly convergent.\n",
      "  quad_r = quad(f, low, high, args=args, full_output=self.full_output,\n"
     ]
    }
   ],
   "execution_count": 10
  },
  {
   "metadata": {},
   "cell_type": "code",
   "source": [
    "# 4. is there any difference when females smell themselves vs when they smell others?\n",
    "target = (data[\n",
    "              (data['type'].isin(['self', 'other'])) &\n",
    "              (data['gender'] == 'female')]\n",
    "          .copy())\n",
    "three_model = ols(\"\"\"points ~ C(segment) + C(type) + C(location) +\n",
    "               C(segment):C(type) + C(segment):C(location) + C(type):C(location) +\n",
    "               C(segment):C(type):C(location)\"\"\", data=target).fit()\n",
    "res4 = anova_lm(three_model, typ=2)\n",
    "\n",
    "# C(segment):C(type) -> p= 0,043\n",
    "# C(segment):C(location) -> p= 7,251\n",
    "# C(type):C(location) -> p= 0,478\n",
    "# C(segment):C(type):C(location) -> p= 0,881"
   ],
   "id": "c5f66a104ebcee60",
   "outputs": [],
   "execution_count": null
  },
  {
   "metadata": {},
   "cell_type": "code",
   "source": [
    "# Lets check the above\n",
    "target = data[\n",
    "    (data['location'].isin(['front', 'back'])) &\n",
    "    (data['gender'] == 'female') &\n",
    "    (data['type'].isin(['self', 'other']))\n",
    "    ].copy()\n",
    "tukey = pairwise_tukeyhsd(endog=target['points'],\n",
    "                          groups=target['type'] + target['segment'],\n",
    "                          alpha=0.05)\n",
    "# None"
   ],
   "id": "983ae1441ba1d506",
   "outputs": [],
   "execution_count": null
  },
  {
   "metadata": {
    "ExecuteTime": {
     "end_time": "2025-06-13T14:43:46.942172Z",
     "start_time": "2025-06-13T14:43:45.747632Z"
    }
   },
   "cell_type": "code",
   "source": [
    "# 5. Now, lets focus on condition x body, example: where do female prefer to smell themselves on the front, and where on the back\n",
    "target = (data[\n",
    "              (data['type'] == 'self') &\n",
    "              (data['gender'] == 'female') &\n",
    "              (data['location'] == 'front')\n",
    "              ]\n",
    "          .copy())\n",
    "tukey = pairwise_tukeyhsd(endog=target['points'],\n",
    "                          groups=target['segment'],\n",
    "                          alpha=0.05)"
   ],
   "id": "331d74250acfbcc4",
   "outputs": [],
   "execution_count": 14
  }
 ],
 "metadata": {
  "kernelspec": {
   "name": "python3",
   "language": "python",
   "display_name": "Python 3 (ipykernel)"
  }
 },
 "nbformat": 5,
 "nbformat_minor": 9
}
