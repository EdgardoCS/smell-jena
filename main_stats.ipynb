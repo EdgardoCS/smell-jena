{
 "cells": [
  {
   "metadata": {
    "ExecuteTime": {
     "end_time": "2025-06-16T14:52:47.729155Z",
     "start_time": "2025-06-16T14:52:44.126743Z"
    }
   },
   "cell_type": "code",
   "source": [
    "\"\"\"\n",
    "author: EdgardoCS @FSU Jena\n",
    "date: 16.04.2025\n",
    "\"\"\"\n",
    "\n",
    "import pandas as pd\n",
    "import pingouin as pg\n",
    "import statsmodels.api as sm\n",
    "import statsmodels.formula.api as smf\n",
    "from statsmodels.stats.anova import anova_lm\n",
    "from statsmodels.formula.api import ols, mixedlm\n",
    "from statsmodels.stats.multicomp import pairwise_tukeyhsd\n",
    "\n",
    "pd.options.mode.chained_assignment = None"
   ],
   "id": "86893424e05b45be",
   "outputs": [],
   "execution_count": 1
  },
  {
   "metadata": {
    "ExecuteTime": {
     "end_time": "2025-06-16T14:52:51.317591Z",
     "start_time": "2025-06-16T14:52:47.731732Z"
    }
   },
   "cell_type": "code",
   "source": [
    "input_data = \"output/data_sorted.xlsx\"\n",
    "columns = ['id', 'points', 'gender', 'segment', 'location', 'type']\n",
    "\n",
    "data = pd.read_excel(input_data, usecols=columns)\n",
    "\n",
    "# focus on female and male for now\n",
    "data = (data[data['gender'].isin(['female', 'male'])])\n",
    "\n",
    "# Conditions:\n",
    "# front + self + female\n",
    "# front + self + male\n",
    "# front + other + female\n",
    "# front + other + male\n",
    "#\n",
    "# back + self + female\n",
    "# back + self + male\n",
    "# back + other + female\n",
    "# back + other + male"
   ],
   "id": "f7e3e66ce00738cf",
   "outputs": [],
   "execution_count": 2
  },
  {
   "metadata": {
    "ExecuteTime": {
     "end_time": "2025-06-16T14:52:51.741391Z",
     "start_time": "2025-06-16T14:52:51.725259Z"
    }
   },
   "cell_type": "code",
   "source": [
    "data['segment'] = data['segment'].astype('category')\n",
    "data['location'] = data['location'].astype('category')\n",
    "data['type'] = data['type'].astype('category')\n",
    "data['gender'] = data['gender'].astype('category')\n",
    "data['id'] = data['id'].astype('category')  # Random effect"
   ],
   "id": "f29756aeea6a5a7",
   "outputs": [],
   "execution_count": 3
  },
  {
   "metadata": {
    "ExecuteTime": {
     "end_time": "2025-06-16T14:53:47.234164Z",
     "start_time": "2025-06-16T14:52:51.758880Z"
    }
   },
   "cell_type": "code",
   "source": [
    "\n",
    "model = smf.mixedlm(\n",
    "    \"points ~ segment * location * type * gender\",\n",
    "    data,\n",
    "    groups=data[\"id\"]\n",
    ")\n",
    "result = model.fit()\n",
    "print(result.summary())"
   ],
   "id": "fc4551c3bd8bfc2d",
   "outputs": [
    {
     "name": "stdout",
     "output_type": "stream",
     "text": [
      "                                   Mixed Linear Model Regression Results\n",
      "===========================================================================================================\n",
      "Model:                              MixedLM                 Dependent Variable:                 points     \n",
      "No. Observations:                   26915                   Method:                             REML       \n",
      "No. Groups:                         2409                    Scale:                              0.9005     \n",
      "Min. group size:                    1                       Log-Likelihood:                     -39005.2520\n",
      "Max. group size:                    36                      Converged:                          Yes        \n",
      "Mean group size:                    11.2                                                                   \n",
      "-----------------------------------------------------------------------------------------------------------\n",
      "                                                                Coef.  Std.Err.    z    P>|z| [0.025 0.975]\n",
      "-----------------------------------------------------------------------------------------------------------\n",
      "Intercept                                                        2.004    0.039  51.041 0.000  1.927  2.081\n",
      "segment[T.chest]                                                -0.266    0.063  -4.237 0.000 -0.389 -0.143\n",
      "segment[T.feet]                                                 -0.034    0.052  -0.647 0.518 -0.136  0.069\n",
      "segment[T.hair]                                                 -0.670    0.064 -10.398 0.000 -0.796 -0.544\n",
      "segment[T.hand]                                                 -0.298    0.071  -4.164 0.000 -0.438 -0.158\n",
      "segment[T.knee]                                                 -0.367    0.093  -3.928 0.000 -0.549 -0.184\n",
      "segment[T.mouth]                                                -0.583    0.080  -7.273 0.000 -0.740 -0.426\n",
      "segment[T.neck]                                                 -0.637    0.055 -11.561 0.000 -0.745 -0.529\n",
      "segment[T.pelvis]                                               -0.802    0.053 -15.221 0.000 -0.905 -0.698\n",
      "location[T.front]                                                0.032    0.044   0.729 0.466 -0.054  0.117\n",
      "type[T.self]                                                    -0.004    0.052  -0.074 0.941 -0.105  0.098\n",
      "gender[T.male]                                                   0.082    0.065   1.262 0.207 -0.045  0.209\n",
      "segment[T.chest]:location[T.front]                              -0.207    0.086  -2.409 0.016 -0.375 -0.039\n",
      "segment[T.feet]:location[T.front]                                0.178    0.066   2.701 0.007  0.049  0.308\n",
      "segment[T.hair]:location[T.front]                                0.013    0.082   0.165 0.869 -0.146  0.173\n",
      "segment[T.hand]:location[T.front]                                0.024    0.087   0.282 0.778 -0.146  0.195\n",
      "segment[T.knee]:location[T.front]                               -0.335    0.140  -2.387 0.017 -0.611 -0.060\n",
      "segment[T.mouth]:location[T.front]                              -0.083    0.093  -0.885 0.376 -0.266  0.100\n",
      "segment[T.neck]:location[T.front]                                0.156    0.071   2.213 0.027  0.018  0.294\n",
      "segment[T.pelvis]:location[T.front]                              0.083    0.067   1.226 0.220 -0.049  0.215\n",
      "segment[T.chest]:type[T.self]                                   -0.096    0.110  -0.875 0.382 -0.311  0.119\n",
      "segment[T.feet]:type[T.self]                                    -0.067    0.077  -0.875 0.381 -0.218  0.083\n",
      "segment[T.hair]:type[T.self]                                    -0.065    0.102  -0.631 0.528 -0.265  0.136\n",
      "segment[T.hand]:type[T.self]                                    -0.005    0.097  -0.052 0.958 -0.196  0.185\n",
      "segment[T.knee]:type[T.self]                                     0.054    0.157   0.347 0.728 -0.252  0.361\n",
      "segment[T.mouth]:type[T.self]                                   -0.082    0.130  -0.629 0.529 -0.338  0.174\n",
      "segment[T.neck]:type[T.self]                                    -0.158    0.098  -1.612 0.107 -0.349  0.034\n",
      "segment[T.pelvis]:type[T.self]                                   0.014    0.077   0.185 0.854 -0.137  0.166\n",
      "location[T.front]:type[T.self]                                   0.081    0.063   1.277 0.202 -0.043  0.204\n",
      "segment[T.chest]:gender[T.male]                                  0.121    0.101   1.196 0.232 -0.077  0.319\n",
      "segment[T.feet]:gender[T.male]                                  -0.108    0.088  -1.229 0.219 -0.281  0.064\n",
      "segment[T.hair]:gender[T.male]                                  -0.087    0.114  -0.766 0.444 -0.310  0.136\n",
      "segment[T.hand]:gender[T.male]                                  -0.119    0.123  -0.967 0.334 -0.359  0.122\n",
      "segment[T.knee]:gender[T.male]                                  -0.060    0.150  -0.401 0.689 -0.353  0.233\n",
      "segment[T.mouth]:gender[T.male]                                 -0.222    0.135  -1.646 0.100 -0.486  0.042\n",
      "segment[T.neck]:gender[T.male]                                  -0.059    0.090  -0.656 0.512 -0.237  0.118\n",
      "segment[T.pelvis]:gender[T.male]                                 0.097    0.087   1.122 0.262 -0.072  0.267\n",
      "location[T.front]:gender[T.male]                                -0.068    0.072  -0.940 0.347 -0.209  0.074\n",
      "type[T.self]:gender[T.male]                                     -0.075    0.085  -0.886 0.376 -0.242  0.091\n",
      "segment[T.chest]:location[T.front]:type[T.self]                  0.116    0.137   0.847 0.397 -0.152  0.384\n",
      "segment[T.feet]:location[T.front]:type[T.self]                  -0.143    0.096  -1.488 0.137 -0.332  0.045\n",
      "segment[T.hair]:location[T.front]:type[T.self]                  -0.045    0.129  -0.351 0.726 -0.298  0.207\n",
      "segment[T.hand]:location[T.front]:type[T.self]                  -0.041    0.119  -0.345 0.730 -0.274  0.192\n",
      "segment[T.knee]:location[T.front]:type[T.self]                  -0.027    0.218  -0.126 0.900 -0.454  0.400\n",
      "segment[T.mouth]:location[T.front]:type[T.self]                 -0.067    0.149  -0.448 0.654 -0.358  0.225\n",
      "segment[T.neck]:location[T.front]:type[T.self]                  -0.030    0.122  -0.249 0.804 -0.268  0.208\n",
      "segment[T.pelvis]:location[T.front]:type[T.self]                -0.140    0.097  -1.446 0.148 -0.330  0.050\n",
      "segment[T.chest]:location[T.front]:gender[T.male]               -0.118    0.139  -0.850 0.395 -0.391  0.155\n",
      "segment[T.feet]:location[T.front]:gender[T.male]                 0.011    0.112   0.096 0.923 -0.209  0.230\n",
      "segment[T.hair]:location[T.front]:gender[T.male]                -0.053    0.142  -0.371 0.711 -0.331  0.226\n",
      "segment[T.hand]:location[T.front]:gender[T.male]                 0.036    0.150   0.241 0.810 -0.257  0.329\n",
      "segment[T.knee]:location[T.front]:gender[T.male]                 0.093    0.222   0.421 0.674 -0.341  0.528\n",
      "segment[T.mouth]:location[T.front]:gender[T.male]                0.233    0.159   1.470 0.142 -0.078  0.544\n",
      "segment[T.neck]:location[T.front]:gender[T.male]                 0.019    0.116   0.167 0.867 -0.208  0.247\n",
      "segment[T.pelvis]:location[T.front]:gender[T.male]              -0.065    0.112  -0.582 0.561 -0.284  0.154\n",
      "segment[T.chest]:type[T.self]:gender[T.male]                     0.047    0.174   0.269 0.788 -0.295  0.389\n",
      "segment[T.feet]:type[T.self]:gender[T.male]                      0.083    0.128   0.649 0.516 -0.167  0.333\n",
      "segment[T.hair]:type[T.self]:gender[T.male]                     -0.066    0.187  -0.353 0.724 -0.433  0.301\n",
      "segment[T.hand]:type[T.self]:gender[T.male]                      0.094    0.168   0.561 0.575 -0.234  0.422\n",
      "segment[T.knee]:type[T.self]:gender[T.male]                      0.001    0.254   0.006 0.995 -0.496  0.499\n",
      "segment[T.mouth]:type[T.self]:gender[T.male]                     0.004    0.222   0.019 0.985 -0.431  0.439\n",
      "segment[T.neck]:type[T.self]:gender[T.male]                      0.125    0.156   0.800 0.424 -0.181  0.432\n",
      "segment[T.pelvis]:type[T.self]:gender[T.male]                   -0.080    0.126  -0.631 0.528 -0.327  0.168\n",
      "location[T.front]:type[T.self]:gender[T.male]                   -0.045    0.104  -0.430 0.667 -0.249  0.159\n",
      "segment[T.chest]:location[T.front]:type[T.self]:gender[T.male]  -0.064    0.223  -0.287 0.774 -0.501  0.373\n",
      "segment[T.feet]:location[T.front]:type[T.self]:gender[T.male]    0.045    0.161   0.277 0.782 -0.271  0.361\n",
      "segment[T.hair]:location[T.front]:type[T.self]:gender[T.male]    0.183    0.233   0.788 0.431 -0.273  0.639\n",
      "segment[T.hand]:location[T.front]:type[T.self]:gender[T.male]    0.019    0.205   0.094 0.925 -0.383  0.421\n",
      "segment[T.knee]:location[T.front]:type[T.self]:gender[T.male]    0.254    0.362   0.701 0.483 -0.456  0.963\n",
      "segment[T.mouth]:location[T.front]:type[T.self]:gender[T.male]   0.081    0.254   0.320 0.749 -0.416  0.578\n",
      "segment[T.neck]:location[T.front]:type[T.self]:gender[T.male]   -0.074    0.198  -0.376 0.707 -0.462  0.313\n",
      "segment[T.pelvis]:location[T.front]:type[T.self]:gender[T.male]  0.140    0.160   0.877 0.381 -0.173  0.454\n",
      "Group Var                                                        0.432    0.016                            \n",
      "===========================================================================================================\n",
      "\n"
     ]
    }
   ],
   "execution_count": 4
  },
  {
   "metadata": {
    "ExecuteTime": {
     "end_time": "2025-06-16T14:53:47.262318Z",
     "start_time": "2025-06-16T14:53:47.249927Z"
    }
   },
   "cell_type": "code",
   "source": [
    "# Subset example: armpit + male\n",
    "# subset = data[(data['segment'] == 'armpit') & (data['gender'] == 'male')]\n",
    "#\n",
    "# # Pairwise t-test\n",
    "# posthoc = pg.pairwise_tests(\n",
    "#     dv='points',\n",
    "#     within='type',\n",
    "#     subject='id',\n",
    "#     data=subset,\n",
    "#     padjust='bonferroni',\n",
    "#     effsize='cohen'\n",
    "# )\n",
    "# print(posthoc)"
   ],
   "id": "b7a3ba170cb29a9d",
   "outputs": [],
   "execution_count": 5
  },
  {
   "metadata": {
    "ExecuteTime": {
     "end_time": "2025-06-16T14:53:47.308330Z",
     "start_time": "2025-06-16T14:53:47.296904Z"
    }
   },
   "cell_type": "code",
   "source": [
    "# # 1. Is there any difference between female and male when smelling others?\n",
    "# target = (data[\n",
    "#               (data['type'] == 'other') &\n",
    "#               (data['gender'].isin(['female', 'male']))]\n",
    "#           .copy())\n",
    "# three_model = ols(\"\"\"points ~ C(segment) + C(gender) + C(location) +\n",
    "#                C(segment):C(gender) + C(segment):C(location) + C(gender):C(location) +\n",
    "#                C(segment):C(gender):C(location)\"\"\", data=target).fit()\n",
    "# res1 = anova_lm(three_model, typ=2)\n",
    "#\n",
    "# # C(segment):C(gender) -> p= 0,35\n",
    "# # C(segment):C(location) -> p= 7,38\n",
    "# # C(gender):C(location) -> p= 0,22\n",
    "# # C(segment):C(gender):C(location) -> p= 0,49\n",
    "#\n",
    "# # Answer, apparently *None* given the three model calculation"
   ],
   "id": "dc199cb5744a94f6",
   "outputs": [],
   "execution_count": 6
  },
  {
   "metadata": {
    "ExecuteTime": {
     "end_time": "2025-06-16T14:53:47.342542Z",
     "start_time": "2025-06-16T14:53:47.328551Z"
    }
   },
   "cell_type": "code",
   "source": [
    "# # 2. Is there any difference between female and male when smelling themselves?\n",
    "# target = (data[\n",
    "#               (data['type'] == 'self') &\n",
    "#               (data['gender'].isin(['female', 'male']))]\n",
    "#           .copy())\n",
    "# three_model = ols(\"\"\"points ~ C(segment) + C(gender) + C(location) +\n",
    "#                C(segment):C(gender) + C(segment):C(location) + C(gender):C(location) +\n",
    "#                C(segment):C(gender):C(location)\"\"\", data=target).fit()\n",
    "# res2 = anova_lm(three_model, typ=2)\n",
    "#\n",
    "# # C(gender) -> p= 0,009\n",
    "# # C(segment):C(gender) -> p= 0,97\n",
    "# # C(segment):C(location) -> p= 0,02\n",
    "# # C(gender):C(location) -> p= 0,66\n",
    "# # C(segment):C(gender):C(location) -> p= 0,81\n",
    "#\n",
    "# # Answer, there is a main effect of gender, and there is significant difference\n",
    "# # between segment and location when participants smell themselves"
   ],
   "id": "24ef3982db99a59c",
   "outputs": [],
   "execution_count": 7
  },
  {
   "metadata": {
    "ExecuteTime": {
     "end_time": "2025-06-16T14:53:47.361813Z",
     "start_time": "2025-06-16T14:53:47.355713Z"
    }
   },
   "cell_type": "code",
   "source": [
    "# # Take both genders, front and back when smelling themselves\n",
    "# target = data[\n",
    "#     (data['location'].isin(['front', 'back'])) &\n",
    "#     (data['type'] == 'self') &\n",
    "#     (data['gender'].isin(['female', 'male']))\n",
    "#     ].copy()\n",
    "# tukey = pairwise_tukeyhsd(endog=target['points'],\n",
    "#                           # groups=target['location'] + target['segment'],\n",
    "#                           groups=target['gender'] + target['segment'],\n",
    "#                           alpha=0.05)\n",
    "#\n",
    "# # group     meandiff\tp-adj\tlower\tupper\treject\n",
    "# # (front vs back)\n",
    "# # armpit\t-0.0481\t    0.9999\t-0.2054\t0.1093\tFalse\n",
    "# # chest\t    -0.2054\t    0.7353\t-0.5271\t0.1163\tFalse\n",
    "# # feet\t    0.0671\t    0.9986\t-0.1164\t0.2506\tFalse\n",
    "# # hair\t    -0.0627\t    1.0\t    -0.3866\t0.2612\tFalse\n",
    "# # hand\t    -0.0428\t    1.0\t    -0.281\t0.1954\tFalse\n",
    "# # knee\t    -0.0394\t    1.0\t    -0.597\t0.5182\tFalse\n",
    "# # mouth\t    -0.3381\t    0.1214\t-0.7076\t0.0314\tFalse\n",
    "# # neck\t    0.0695\t    1.0\t    -0.224\t0.3629\tFalse\n",
    "# # pelvis\t0.0039\t    1.0\t    -0.1752\t0.1831\tFalse\n",
    "#\n",
    "# # group     meandiff\tp-adj\tlower\tupper\treject\n",
    "# # (female vs male)\n",
    "# # armpit\t-0.084\t    0.9009\t-0.236\t0.0679\tFalse\n",
    "# # chest\t    -0.0897\t    0.9999\t-0.4026\t0.2231\tFalse\n",
    "# # feet\t    -0.075\t    0.9957\t-0.2619\t0.1119\tFalse\n",
    "# # hair\t    -0.0351\t    1.0\t    -0.3826\t0.3125\tFalse\n",
    "# # hand\t    -0.0119\t    1.0\t    -0.2541\t0.2302\tFalse\n",
    "# # knee\t    -0.0618\t    1.0\t    -0.6508\t0.5272\tFalse\n",
    "# # mouth\t    -0.0487\t    1.0\t    -0.3572\t0.2598\tFalse\n",
    "# # neck\t    -0.0892\t    0.9999\t-0.3832\t0.2048\tFalse\n",
    "# # pelvis\t-0.0146\t    1.0\t    -0.1944\t0.1652\tFalse\n"
   ],
   "id": "f4ed38cdc603d41d",
   "outputs": [],
   "execution_count": 8
  },
  {
   "metadata": {
    "ExecuteTime": {
     "end_time": "2025-06-16T14:53:47.386177Z",
     "start_time": "2025-06-16T14:53:47.380575Z"
    }
   },
   "cell_type": "code",
   "source": [
    "# # 3. is there any difference when males smell themselves vs when they smell others?\n",
    "# target = (data[\n",
    "#               (data['type'].isin(['self', 'other'])) &\n",
    "#               (data['gender'] == 'male')]\n",
    "#           .copy())\n",
    "# three_model = ols(\"\"\"points ~ C(segment) + C(type) + C(location) +\n",
    "#                C(segment):C(type) + C(segment):C(location) + C(type):C(location) +\n",
    "#                C(segment):C(type):C(location)\"\"\", data=target).fit()\n",
    "# res3 = anova_lm(three_model, typ=2)\n",
    "#\n",
    "# # C(type) -> p= 0,031\n",
    "# # C(segment):C(type) -> p= 0,53\n",
    "# # C(segment):C(location) -> p= 0,001\n",
    "# # C(type):C(location) -> p= 0,88\n",
    "# # C(segment):C(type):C(location) -> p= 0,98\n",
    "#\n",
    "# # Answer, there is a main effect of type, and there is significant difference\n",
    "# # between segment and location when participants smell themselves vs when they smell others"
   ],
   "id": "9801d66952b76073",
   "outputs": [],
   "execution_count": 9
  },
  {
   "metadata": {
    "ExecuteTime": {
     "end_time": "2025-06-16T14:53:47.395837Z",
     "start_time": "2025-06-16T14:53:47.386177Z"
    }
   },
   "cell_type": "code",
   "source": [
    "# # Lets check the above\n",
    "# target = data[\n",
    "#     (data['location'].isin(['front', 'back'])) &\n",
    "#     (data['gender'] == 'male') &\n",
    "#     (data['type'].isin(['self', 'other']))\n",
    "#     ].copy()\n",
    "# tukey = pairwise_tukeyhsd(endog=target['points'],\n",
    "#                           # groups=target['location'] + target['segment'],\n",
    "#                           groups=target['type'] + target['segment'],\n",
    "#                           alpha=0.05)\n",
    "#\n",
    "# # group     meandiff\tp-adj\tlower\tupper\treject\n",
    "# # (front vs back)\n",
    "# # armpit\t-0.1062\t    0.8087\t-0.2815\t0.0691\tFalse\n",
    "# # chest\t    -0.3709\t    0.0032\t-0.6774\t-0.0643\tTrue\n",
    "# # feet\t    0.0838\t    0.9961\t-0.1266\t0.2942\tFalse\n",
    "# # hair\t    -0.1236\t    0.999\t-0.4705\t0.2233\tFalse\n",
    "# # hand\t    -0.0699\t    1.0\t    -0.3747\t0.2348\tFalse\n",
    "# # knee\t    -0.0048\t    1.0\t    -0.5552\t0.5456\tFalse\n",
    "# # mouth\t    -0.1502\t    0.9962\t-0.5281\t0.2277\tFalse\n",
    "# # neck\t    0.11\t    0.9898\t-0.1436\t0.3636\tFalse\n",
    "# # pelvis\t-0.0228\t    1.0\t    -0.2266\t0.1811\tFalse\n",
    "#\n",
    "# # group     meandiff\tp-adj\tlower\tupper\treject\n",
    "# # (self vs other)\n",
    "# # armpit\t-0.0506\t    0.9999\t-0.217\t0.1158\tFalse\n",
    "# # chest\t    -0.0745\t    1.0\t    -0.39\t0.2411\tFalse\n",
    "# # feet\t    -0.0883\t    0.9916\t-0.2955\t0.1188\tFalse\n",
    "# # hair\t    0.0869\t    1.0\t    -0.2664\t0.4402\tFalse\n",
    "# # hand\t    0.0305\t    1.0\t    -0.2601\t0.321\tFalse\n",
    "# # knee\t    0.1451\t    1.0\t    -0.4341\t0.7243\tFalse\n",
    "# # mouth\t    -0.127\t    0.997\t-0.4533\t0.1994\tFalse\n",
    "# # neck\t    -0.0494\t    1.0\t    -0.3232\t0.2244\tFalse\n",
    "# # pelvis\t-0.1268\t    0.7585\t-0.3285\t0.0749\tFalse"
   ],
   "id": "217330d12ef0785f",
   "outputs": [],
   "execution_count": 10
  },
  {
   "metadata": {
    "ExecuteTime": {
     "end_time": "2025-06-16T14:53:47.410958Z",
     "start_time": "2025-06-16T14:53:47.404916Z"
    }
   },
   "cell_type": "code",
   "source": [
    "# # 4. is there any difference when females smell themselves vs when they smell others?\n",
    "# target = (data[\n",
    "#               (data['type'].isin(['self', 'other'])) &\n",
    "#               (data['gender'] == 'female')]\n",
    "#           .copy())\n",
    "# three_model = ols(\"\"\"points ~ C(segment) + C(type) + C(location) +\n",
    "#                C(segment):C(type) + C(segment):C(location) + C(type):C(location) +\n",
    "#                C(segment):C(type):C(location)\"\"\", data=target).fit()\n",
    "# res4 = anova_lm(three_model, typ=2)\n",
    "#\n",
    "# # C(segment):C(type) -> p= 0,043\n",
    "# # C(segment):C(location) -> p= 7,251\n",
    "# # C(type):C(location) -> p= 0,478\n",
    "# # C(segment):C(type):C(location) -> p= 0,881"
   ],
   "id": "c5f66a104ebcee60",
   "outputs": [],
   "execution_count": 11
  },
  {
   "metadata": {
    "ExecuteTime": {
     "end_time": "2025-06-16T14:53:47.445120Z",
     "start_time": "2025-06-16T14:53:47.440814Z"
    }
   },
   "cell_type": "code",
   "source": [
    "# # Lets check the above\n",
    "# target = data[\n",
    "#     (data['location'].isin(['front', 'back'])) &\n",
    "#     (data['gender'] == 'female') &\n",
    "#     (data['type'].isin(['self', 'other']))\n",
    "#     ].copy()\n",
    "# tukey = pairwise_tukeyhsd(endog=target['points'],\n",
    "#                           groups=target['type'] + target['segment'],\n",
    "#                           alpha=0.05)\n",
    "# # None"
   ],
   "id": "983ae1441ba1d506",
   "outputs": [],
   "execution_count": 12
  },
  {
   "metadata": {
    "ExecuteTime": {
     "end_time": "2025-06-16T14:53:47.482898Z",
     "start_time": "2025-06-16T14:53:47.477532Z"
    }
   },
   "cell_type": "code",
   "source": [
    "# # 5. Now, lets focus on condition x body, example: where do female prefer to smell themselves on the front, and where on the back\n",
    "# target = (data[\n",
    "#               (data['type'] == 'self') &\n",
    "#               (data['gender'] == 'female') &\n",
    "#               (data['location'] == 'front')\n",
    "#               ]\n",
    "#           .copy())\n",
    "# tukey = pairwise_tukeyhsd(endog=target['points'],\n",
    "#                           groups=target['segment'],\n",
    "#                           alpha=0.05)"
   ],
   "id": "331d74250acfbcc4",
   "outputs": [],
   "execution_count": 13
  }
 ],
 "metadata": {
  "kernelspec": {
   "name": "python3",
   "language": "python",
   "display_name": "Python 3 (ipykernel)"
  }
 },
 "nbformat": 5,
 "nbformat_minor": 9
}
