{
 "cells": [
  {
   "cell_type": "code",
   "id": "a4109b40090301dc",
   "metadata": {
    "ExecuteTime": {
     "end_time": "2025-06-18T14:15:45.576284Z",
     "start_time": "2025-06-18T14:15:45.565228Z"
    }
   },
   "source": [
    "'''\n",
    "author: EdgardoCS @FSU Jena\n",
    "date: 18.06.2025\n",
    "'''\n",
    "\n",
    "import itertools\n",
    "import numpy as np\n",
    "import pandas as pd\n",
    "import seaborn as sns\n",
    "import scipy.stats as stats\n",
    "import matplotlib.pyplot as plt\n",
    "import statsmodels.genmod as sm\n",
    "import statsmodels.formula.api as smf\n",
    "from statsmodels.formula.api import ols\n",
    "from statsmodels.stats.anova import anova_lm\n",
    "from statsmodels.stats.multicomp import pairwise_tukeyhsd"
   ],
   "outputs": [],
   "execution_count": 24
  },
  {
   "metadata": {
    "ExecuteTime": {
     "end_time": "2025-06-18T14:15:48.818189Z",
     "start_time": "2025-06-18T14:15:45.579734Z"
    }
   },
   "cell_type": "code",
   "source": [
    "input_data = 'output/data_sorted.xlsx'\n",
    "columns = ['Id', 'Rating', 'Gender', 'Segment', 'Location', 'Type']\n",
    "\n",
    "data = pd.read_excel(input_data, usecols=columns)\n",
    "\n",
    "# focus on Female and Male for now\n",
    "data = (data[data['Gender'].isin(['Female', 'Male'])])"
   ],
   "id": "815482a5a372a1b",
   "outputs": [],
   "execution_count": 25
  },
  {
   "metadata": {
    "ExecuteTime": {
     "end_time": "2025-06-18T14:18:10.949174Z",
     "start_time": "2025-06-18T14:18:10.934249Z"
    }
   },
   "cell_type": "code",
   "source": [
    "# Define all factor levels\n",
    "c1 = ['Self', 'Other']\n",
    "c2 = ['Front', 'Back']\n",
    "c3 = ['Armpits', 'Chest', 'Feet', 'Hair', 'Hands', 'Legs', 'Mouth', 'Neck', 'Pelvis']\n",
    "c4 = ['Male', 'Female']"
   ],
   "id": "26197218e269e01d",
   "outputs": [],
   "execution_count": 29
  },
  {
   "metadata": {
    "ExecuteTime": {
     "end_time": "2025-06-18T14:18:28.865251Z",
     "start_time": "2025-06-18T14:18:27.703080Z"
    }
   },
   "cell_type": "code",
   "source": [
    "# Unique subjects\n",
    "ids = data['Id'].unique()\n",
    "\n",
    "# Build full grid for each subject × all combinations of the 4 factors\n",
    "all_combos = pd.DataFrame([\n",
    "    (i, g, t, l, s)\n",
    "    for i in ids\n",
    "    for g, t, l, s in itertools.product(c4, c1, c2, c3)\n",
    "], columns=['Id', 'Gender', 'Type', 'Location', 'Segment'])\n",
    "\n",
    "# Add indicator of whether that combination was rated\n",
    "data['Marked'] = (data['Rating'] > 0).astype(int)\n",
    "\n",
    "# Merge data with all possible combinations\n",
    "merged = all_combos.merge(\n",
    "    data[['Id', 'Gender', 'Type', 'Location', 'Segment', 'Marked']],\n",
    "    on=['Id', 'Gender', 'Type', 'Location', 'Segment'],\n",
    "    how='left'\n",
    ")\n",
    "\n",
    "# Fill missing with 0 = not marked\n",
    "merged['Marked'] = merged['Marked'].fillna(0).astype(int)"
   ],
   "id": "4e5a9d3f4d7d9ac4",
   "outputs": [],
   "execution_count": 31
  },
  {
   "metadata": {
    "collapsed": true,
    "ExecuteTime": {
     "end_time": "2025-06-18T14:18:55.893716Z",
     "start_time": "2025-06-18T14:18:47.769740Z"
    }
   },
   "cell_type": "code",
   "source": [
    "# Logistic mixed-effects model\n",
    "model = smf.glm(\n",
    "    \"Marked ~ Segment * Gender * Location * Type\",\n",
    "    data=merged,\n",
    "    family=sm.families.Binomial()\n",
    ")\n",
    "result = model.fit()\n",
    "print(result.summary())"
   ],
   "id": "initial_id",
   "outputs": [
    {
     "name": "stdout",
     "output_type": "stream",
     "text": [
      "                 Generalized Linear Model Regression Results                  \n",
      "==============================================================================\n",
      "Dep. Variable:                 Marked   No. Observations:               173448\n",
      "Model:                            GLM   Df Residuals:                   173376\n",
      "Model Family:                Binomial   Df Model:                           71\n",
      "Link Function:                  Logit   Scale:                          1.0000\n",
      "Method:                          IRLS   Log-Likelihood:                -66101.\n",
      "Date:                Wed, 18 Jun 2025   Deviance:                   1.3220e+05\n",
      "Time:                        16:18:55   Pearson chi2:                 1.73e+05\n",
      "No. Iterations:                     7   Pseudo R-squ. (CS):            0.09603\n",
      "Covariance Type:            nonrobust                                         \n",
      "===================================================================================================================================\n",
      "                                                                      coef    std err          z      P>|z|      [0.025      0.975]\n",
      "-----------------------------------------------------------------------------------------------------------------------------------\n",
      "Intercept                                                          -0.7939      0.044    -18.043      0.000      -0.880      -0.708\n",
      "Segment[T.Chest]                                                   -0.9682      0.072    -13.355      0.000      -1.110      -0.826\n",
      "Segment[T.Feet]                                                    -0.2593      0.064     -4.049      0.000      -0.385      -0.134\n",
      "Segment[T.Hair]                                                    -1.0679      0.074    -14.397      0.000      -1.213      -0.923\n",
      "Segment[T.Hands]                                                   -1.3846      0.080    -17.200      0.000      -1.542      -1.227\n",
      "Segment[T.Legs]                                                    -2.0947      0.101    -20.692      0.000      -2.293      -1.896\n",
      "Segment[T.Mouth]                                                   -1.6987      0.088    -19.209      0.000      -1.872      -1.525\n",
      "Segment[T.Neck]                                                    -0.4887      0.066     -7.386      0.000      -0.618      -0.359\n",
      "Segment[T.Pelvis]                                                  -0.2789      0.064     -4.344      0.000      -0.405      -0.153\n",
      "Gender[T.Male]                                                     -0.7186      0.069    -10.435      0.000      -0.854      -0.584\n",
      "Location[T.Front]                                                   1.1453      0.060     18.962      0.000       1.027       1.264\n",
      "Type[T.Self]                                                       -0.2463      0.064     -3.853      0.000      -0.372      -0.121\n",
      "Segment[T.Chest]:Gender[T.Male]                                     0.2369      0.113      2.090      0.037       0.015       0.459\n",
      "Segment[T.Feet]:Gender[T.Male]                                     -0.0972      0.102     -0.949      0.343      -0.298       0.104\n",
      "Segment[T.Hair]:Gender[T.Male]                                     -0.1900      0.126     -1.512      0.130      -0.436       0.056\n",
      "Segment[T.Hands]:Gender[T.Male]                                    -0.0339      0.134     -0.254      0.800      -0.296       0.228\n",
      "Segment[T.Legs]:Gender[T.Male]                                      0.2616      0.160      1.632      0.103      -0.052       0.576\n",
      "Segment[T.Mouth]:Gender[T.Male]                                     0.0613      0.145      0.421      0.674      -0.224       0.346\n",
      "Segment[T.Neck]:Gender[T.Male]                                      0.0996      0.104      0.956      0.339      -0.105       0.304\n",
      "Segment[T.Pelvis]:Gender[T.Male]                                    0.0621      0.101      0.616      0.538      -0.136       0.260\n",
      "Segment[T.Chest]:Location[T.Front]                                 -1.2029      0.102    -11.781      0.000      -1.403      -1.003\n",
      "Segment[T.Feet]:Location[T.Front]                                  -0.6054      0.087     -6.951      0.000      -0.776      -0.435\n",
      "Segment[T.Hair]:Location[T.Front]                                  -0.6719      0.099     -6.783      0.000      -0.866      -0.478\n",
      "Segment[T.Hands]:Location[T.Front]                                 -0.3372      0.104     -3.250      0.001      -0.540      -0.134\n",
      "Segment[T.Legs]:Location[T.Front]                                  -1.5291      0.154     -9.921      0.000      -1.831      -1.227\n",
      "Segment[T.Mouth]:Location[T.Front]                                  0.1317      0.109      1.208      0.227      -0.082       0.345\n",
      "Segment[T.Neck]:Location[T.Front]                                  -0.7533      0.090     -8.368      0.000      -0.930      -0.577\n",
      "Segment[T.Pelvis]:Location[T.Front]                                -0.7713      0.088     -8.787      0.000      -0.943      -0.599\n",
      "Gender[T.Male]:Location[T.Front]                                   -0.3693      0.091     -4.041      0.000      -0.548      -0.190\n",
      "Segment[T.Chest]:Type[T.Self]                                      -0.7695      0.122     -6.296      0.000      -1.009      -0.530\n",
      "Segment[T.Feet]:Type[T.Self]                                        0.0266      0.093      0.286      0.775      -0.156       0.209\n",
      "Segment[T.Hair]:Type[T.Self]                                       -0.3497      0.116     -3.024      0.002      -0.576      -0.123\n",
      "Segment[T.Hands]:Type[T.Self]                                       0.5269      0.111      4.752      0.000       0.310       0.744\n",
      "Segment[T.Legs]:Type[T.Self]                                       -0.4503      0.168     -2.681      0.007      -0.779      -0.121\n",
      "Segment[T.Mouth]:Type[T.Self]                                      -0.3798      0.142     -2.672      0.008      -0.658      -0.101\n",
      "Segment[T.Neck]:Type[T.Self]                                       -0.9519      0.111     -8.563      0.000      -1.170      -0.734\n",
      "Segment[T.Pelvis]:Type[T.Self]                                      0.0019      0.094      0.021      0.983      -0.182       0.185\n",
      "Gender[T.Male]:Type[T.Self]                                         0.0680      0.100      0.678      0.498      -0.129       0.264\n",
      "Location[T.Front]:Type[T.Self]                                      0.1884      0.087      2.176      0.030       0.019       0.358\n",
      "Segment[T.Chest]:Gender[T.Male]:Location[T.Front]                   0.2903      0.159      1.826      0.068      -0.021       0.602\n",
      "Segment[T.Feet]:Gender[T.Male]:Location[T.Front]                    0.2274      0.136      1.667      0.096      -0.040       0.495\n",
      "Segment[T.Hair]:Gender[T.Male]:Location[T.Front]                    0.5324      0.162      3.278      0.001       0.214       0.851\n",
      "Segment[T.Hands]:Gender[T.Male]:Location[T.Front]                   0.2579      0.170      1.518      0.129      -0.075       0.591\n",
      "Segment[T.Legs]:Gender[T.Male]:Location[T.Front]                    0.4814      0.240      2.010      0.044       0.012       0.951\n",
      "Segment[T.Mouth]:Gender[T.Male]:Location[T.Front]                   0.1429      0.177      0.807      0.420      -0.204       0.490\n",
      "Segment[T.Neck]:Gender[T.Male]:Location[T.Front]                    0.3208      0.139      2.305      0.021       0.048       0.594\n",
      "Segment[T.Pelvis]:Gender[T.Male]:Location[T.Front]                  0.2092      0.136      1.540      0.124      -0.057       0.476\n",
      "Segment[T.Chest]:Gender[T.Male]:Type[T.Self]                        0.0205      0.191      0.107      0.915      -0.354       0.395\n",
      "Segment[T.Feet]:Gender[T.Male]:Type[T.Self]                         0.0931      0.148      0.628      0.530      -0.197       0.384\n",
      "Segment[T.Hair]:Gender[T.Male]:Type[T.Self]                        -0.2106      0.204     -1.033      0.301      -0.610       0.189\n",
      "Segment[T.Hands]:Gender[T.Male]:Type[T.Self]                       -0.1584      0.185     -0.857      0.392      -0.521       0.204\n",
      "Segment[T.Legs]:Gender[T.Male]:Type[T.Self]                        -0.1328      0.270     -0.492      0.623      -0.662       0.396\n",
      "Segment[T.Mouth]:Gender[T.Male]:Type[T.Self]                       -0.1058      0.237     -0.446      0.656      -0.571       0.359\n",
      "Segment[T.Neck]:Gender[T.Male]:Type[T.Self]                         0.1597      0.174      0.919      0.358      -0.181       0.500\n",
      "Segment[T.Pelvis]:Gender[T.Male]:Type[T.Self]                       0.0367      0.147      0.250      0.802      -0.251       0.324\n",
      "Segment[T.Chest]:Location[T.Front]:Type[T.Self]                     0.9048      0.158      5.713      0.000       0.594       1.215\n",
      "Segment[T.Feet]:Location[T.Front]:Type[T.Self]                     -0.1096      0.125     -0.875      0.382      -0.355       0.136\n",
      "Segment[T.Hair]:Location[T.Front]:Type[T.Self]                     -0.1466      0.152     -0.963      0.335      -0.445       0.152\n",
      "Segment[T.Hands]:Location[T.Front]:Type[T.Self]                    -0.2677      0.143     -1.867      0.062      -0.549       0.013\n",
      "Segment[T.Legs]:Location[T.Front]:Type[T.Self]                      0.4095      0.237      1.725      0.085      -0.056       0.875\n",
      "Segment[T.Mouth]:Location[T.Front]:Type[T.Self]                     0.1239      0.170      0.730      0.465      -0.209       0.457\n",
      "Segment[T.Neck]:Location[T.Front]:Type[T.Self]                      0.1048      0.146      0.720      0.472      -0.180       0.390\n",
      "Segment[T.Pelvis]:Location[T.Front]:Type[T.Self]                    0.3431      0.126      2.731      0.006       0.097       0.589\n",
      "Gender[T.Male]:Location[T.Front]:Type[T.Self]                       0.0013      0.131      0.010      0.992      -0.256       0.259\n",
      "Segment[T.Chest]:Gender[T.Male]:Location[T.Front]:Type[T.Self]     -0.3711      0.249     -1.489      0.136      -0.859       0.117\n",
      "Segment[T.Feet]:Gender[T.Male]:Location[T.Front]:Type[T.Self]      -0.0106      0.196     -0.054      0.957      -0.394       0.373\n",
      "Segment[T.Hair]:Gender[T.Male]:Location[T.Front]:Type[T.Self]      -0.0593      0.260     -0.228      0.820      -0.570       0.451\n",
      "Segment[T.Hands]:Gender[T.Male]:Location[T.Front]:Type[T.Self]      0.1135      0.234      0.484      0.628      -0.346       0.573\n",
      "Segment[T.Legs]:Gender[T.Male]:Location[T.Front]:Type[T.Self]      -0.4374      0.387     -1.129      0.259      -1.197       0.322\n",
      "Segment[T.Mouth]:Gender[T.Male]:Location[T.Front]:Type[T.Self]      0.1370      0.279      0.490      0.624      -0.411       0.685\n",
      "Segment[T.Neck]:Gender[T.Male]:Location[T.Front]:Type[T.Self]      -0.2585      0.227     -1.138      0.255      -0.704       0.187\n",
      "Segment[T.Pelvis]:Gender[T.Male]:Location[T.Front]:Type[T.Self]    -0.2251      0.194     -1.159      0.246      -0.606       0.155\n",
      "===================================================================================================================================\n"
     ]
    }
   ],
   "execution_count": 32
  }
 ],
 "metadata": {
  "kernelspec": {
   "display_name": "Python 3",
   "language": "python",
   "name": "python3"
  },
  "language_info": {
   "codemirror_mode": {
    "name": "ipython",
    "version": 2
   },
   "file_extension": ".py",
   "mimetype": "text/x-python",
   "name": "python",
   "nbconvert_exporter": "python",
   "pygments_lexer": "ipython2",
   "version": "2.7.6"
  }
 },
 "nbformat": 4,
 "nbformat_minor": 5
}
